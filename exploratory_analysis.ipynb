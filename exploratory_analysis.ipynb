{
 "cells": [
  {
   "cell_type": "markdown",
   "id": "3ec3a010-4a53-4d76-8b15-5767d4ed0ad3",
   "metadata": {},
   "source": [
    "## Data Exploration, Insights, and SQL Analysis\n",
    "## Hedy Liu"
   ]
  },
  {
   "cell_type": "markdown",
   "id": "7a518264-3e67-4e17-92e5-fc506f20820d",
   "metadata": {},
   "source": [
    "## First: explore the data"
   ]
  },
  {
   "cell_type": "code",
   "execution_count": 1,
   "id": "fbadcee4-d680-47d8-8151-ccc94e6e740e",
   "metadata": {},
   "outputs": [],
   "source": [
    "import pandas as pd\n",
    "import numpy as np\n",
    "import matplotlib.pyplot as plt\n",
    "import seaborn as sns"
   ]
  },
  {
   "cell_type": "code",
   "execution_count": 2,
   "id": "71e782f6-7d5d-4974-a1a5-758acb4f1f16",
   "metadata": {},
   "outputs": [],
   "source": [
    "# Load datasets\n",
    "users_df = pd.read_csv(\"./USER_TAKEHOME.csv\")\n",
    "transactions_df = pd.read_csv(\"./TRANSACTION_TAKEHOME.csv\")\n",
    "products_df = pd.read_csv(\"./PRODUCTS_TAKEHOME.csv\")"
   ]
  },
  {
   "cell_type": "code",
   "execution_count": 3,
   "id": "c12bb885-9a7c-44c9-87ff-d5ec4ca61103",
   "metadata": {},
   "outputs": [],
   "source": [
    "# Function to display basic dataset info\n",
    "def explore_data(df, name):\n",
    "    print(f\"\\n--- {name} ---\\n\")\n",
    "    print(f\"Shape: {df.shape}\")\n",
    "    print(\"\\nData Types:\\n\", df.dtypes)\n",
    "    print(\"\\nSample Data:\\n\", df.head())\n",
    "    print(\"\\nMissing Values:\\n\", df.isnull().sum())\n",
    "    print(\"\\nDuplicate Rows:\", df.duplicated().sum())"
   ]
  },
  {
   "cell_type": "code",
   "execution_count": 4,
   "id": "a6d4e5b8-c8ec-4c78-a6f8-32201648170a",
   "metadata": {},
   "outputs": [
    {
     "name": "stdout",
     "output_type": "stream",
     "text": [
      "\n",
      "--- Products ---\n",
      "\n",
      "Shape: (845552, 7)\n",
      "\n",
      "Data Types:\n",
      " CATEGORY_1       object\n",
      "CATEGORY_2       object\n",
      "CATEGORY_3       object\n",
      "CATEGORY_4       object\n",
      "MANUFACTURER     object\n",
      "BRAND            object\n",
      "BARCODE         float64\n",
      "dtype: object\n",
      "\n",
      "Sample Data:\n",
      "           CATEGORY_1              CATEGORY_2                   CATEGORY_3  \\\n",
      "0  Health & Wellness           Sexual Health  Conductivity Gels & Lotions   \n",
      "1             Snacks           Puffed Snacks         Cheese Curls & Puffs   \n",
      "2  Health & Wellness               Hair Care        Hair Care Accessories   \n",
      "3  Health & Wellness               Oral Care                   Toothpaste   \n",
      "4  Health & Wellness  Medicines & Treatments               Essential Oils   \n",
      "\n",
      "  CATEGORY_4                                       MANUFACTURER  \\\n",
      "0        NaN                                                NaN   \n",
      "1        NaN                                                NaN   \n",
      "2        NaN                           PLACEHOLDER MANUFACTURER   \n",
      "3        NaN                                  COLGATE-PALMOLIVE   \n",
      "4        NaN  MAPLE HOLISTICS AND HONEYDEW PRODUCTS INTERCHA...   \n",
      "\n",
      "             BRAND       BARCODE  \n",
      "0              NaN  7.964944e+11  \n",
      "1              NaN  2.327801e+10  \n",
      "2          ELECSOP  4.618178e+11  \n",
      "3          COLGATE  3.500047e+10  \n",
      "4  MAPLE HOLISTICS  8.068109e+11  \n",
      "\n",
      "Missing Values:\n",
      " CATEGORY_1         111\n",
      "CATEGORY_2        1424\n",
      "CATEGORY_3       60566\n",
      "CATEGORY_4      778093\n",
      "MANUFACTURER    226474\n",
      "BRAND           226472\n",
      "BARCODE           4025\n",
      "dtype: int64\n",
      "\n",
      "Duplicate Rows: 215\n",
      "\n",
      "--- Transactions ---\n",
      "\n",
      "Shape: (50000, 8)\n",
      "\n",
      "Data Types:\n",
      " RECEIPT_ID         object\n",
      "PURCHASE_DATE      object\n",
      "SCAN_DATE          object\n",
      "STORE_NAME         object\n",
      "USER_ID            object\n",
      "BARCODE           float64\n",
      "FINAL_QUANTITY     object\n",
      "FINAL_SALE         object\n",
      "dtype: object\n",
      "\n",
      "Sample Data:\n",
      "                              RECEIPT_ID PURCHASE_DATE  \\\n",
      "0  0000d256-4041-4a3e-adc4-5623fb6e0c99     8/21/2024   \n",
      "1  0001455d-7a92-4a7b-a1d2-c747af1c8fd3     7/20/2024   \n",
      "2  00017e0a-7851-42fb-bfab-0baa96e23586     8/18/2024   \n",
      "3  000239aa-3478-453d-801e-66a82e39c8af     6/18/2024   \n",
      "4  00026b4c-dfe8-49dd-b026-4c2f0fd5c6a1      7/4/2024   \n",
      "\n",
      "                   SCAN_DATE STORE_NAME                   USER_ID  \\\n",
      "0  2024-08-21 14:19:06.539 Z    WALMART  63b73a7f3d310dceeabd4758   \n",
      "1  2024-07-20 09:50:24.206 Z       ALDI  62c08877baa38d1a1f6c211a   \n",
      "2  2024-08-19 15:38:56.813 Z    WALMART  60842f207ac8b7729e472020   \n",
      "3  2024-06-19 11:03:37.468 Z  FOOD LION  63fcd7cea4f8442c3386b589   \n",
      "4  2024-07-05 15:56:43.549 Z   RANDALLS  6193231ae9b3d75037b0f928   \n",
      "\n",
      "        BARCODE FINAL_QUANTITY FINAL_SALE  \n",
      "0  1.530001e+10              1             \n",
      "1           NaN           zero       1.49  \n",
      "2  7.874223e+10              1             \n",
      "3  7.834000e+11           zero       3.49  \n",
      "4  4.790050e+10              1             \n",
      "\n",
      "Missing Values:\n",
      " RECEIPT_ID           0\n",
      "PURCHASE_DATE        0\n",
      "SCAN_DATE            0\n",
      "STORE_NAME           0\n",
      "USER_ID              0\n",
      "BARCODE           5762\n",
      "FINAL_QUANTITY       0\n",
      "FINAL_SALE           0\n",
      "dtype: int64\n",
      "\n",
      "Duplicate Rows: 171\n",
      "\n",
      "--- Users ---\n",
      "\n",
      "Shape: (100000, 6)\n",
      "\n",
      "Data Types:\n",
      " ID              object\n",
      "CREATED_DATE    object\n",
      "BIRTH_DATE      object\n",
      "STATE           object\n",
      "LANGUAGE        object\n",
      "GENDER          object\n",
      "dtype: object\n",
      "\n",
      "Sample Data:\n",
      "                          ID               CREATED_DATE  \\\n",
      "0  5ef3b4f17053ab141787697d  2020-06-24 20:17:54.000 Z   \n",
      "1  5ff220d383fcfc12622b96bc  2021-01-03 19:53:55.000 Z   \n",
      "2  6477950aa55bb77a0e27ee10  2023-05-31 18:42:18.000 Z   \n",
      "3  658a306e99b40f103b63ccf8  2023-12-26 01:46:22.000 Z   \n",
      "4  653cf5d6a225ea102b7ecdc2  2023-10-28 11:51:50.000 Z   \n",
      "\n",
      "                  BIRTH_DATE STATE LANGUAGE  GENDER  \n",
      "0  2000-08-11 00:00:00.000 Z    CA   es-419  female  \n",
      "1  2001-09-24 04:00:00.000 Z    PA       en  female  \n",
      "2  1994-10-28 00:00:00.000 Z    FL   es-419  female  \n",
      "3                        NaN    NC       en     NaN  \n",
      "4  1972-03-19 00:00:00.000 Z    PA       en  female  \n",
      "\n",
      "Missing Values:\n",
      " ID                  0\n",
      "CREATED_DATE        0\n",
      "BIRTH_DATE       3675\n",
      "STATE            4812\n",
      "LANGUAGE        30508\n",
      "GENDER           5892\n",
      "dtype: int64\n",
      "\n",
      "Duplicate Rows: 0\n"
     ]
    }
   ],
   "source": [
    "# Explore each dataset\n",
    "explore_data(products_df, \"Products\")\n",
    "explore_data(transactions_df, \"Transactions\")\n",
    "explore_data(users_df, \"Users\")"
   ]
  },
  {
   "cell_type": "code",
   "execution_count": 5,
   "id": "e5d22d8d-3bae-464e-a5cd-a325456ffb27",
   "metadata": {},
   "outputs": [
    {
     "name": "stdout",
     "output_type": "stream",
     "text": [
      "User States: ['CA' 'PA' 'FL' 'NC' 'NY' 'IN' nan 'OH' 'TX' 'NM' 'PR' 'CO' 'AZ' 'RI' 'MO'\n",
      " 'NJ' 'MA' 'TN' 'LA' 'NH' 'WI' 'IA' 'GA' 'VA' 'DC' 'KY' 'SC' 'MN' 'WV'\n",
      " 'DE' 'MI' 'IL' 'MS' 'WA' 'KS' 'CT' 'OR' 'UT' 'MD' 'OK' 'NE' 'NV' 'AL'\n",
      " 'AK' 'AR' 'HI' 'ME' 'ND' 'ID' 'WY' 'MT' 'SD' 'VT']\n",
      "Transaction Store Names: 954\n",
      "Product Categories: CATEGORY_1     27\n",
      "CATEGORY_2    121\n",
      "CATEGORY_3    344\n",
      "CATEGORY_4    127\n",
      "dtype: int64\n"
     ]
    }
   ],
   "source": [
    "# Check for unique values in categorical fields\n",
    "\n",
    "print(\"User States:\", users_df['STATE'].unique())\n",
    "print(\"Transaction Store Names:\", transactions_df['STORE_NAME'].nunique())\n",
    "print(\"Product Categories:\", products_df[['CATEGORY_1', 'CATEGORY_2', 'CATEGORY_3', 'CATEGORY_4']].nunique())\n",
    "\n",
    "#DO I NEED THIS？？？\n"
   ]
  },
  {
   "cell_type": "code",
   "execution_count": 6,
   "id": "84f6e0e9-ed31-4aab-a0a6-154fda7a9222",
   "metadata": {},
   "outputs": [
    {
     "name": "stdout",
     "output_type": "stream",
     "text": [
      "\n",
      "Missing Data Summary:\n",
      "               Products  Transactions    Users\n",
      "BARCODE         4025.0        5762.0      NaN\n",
      "BIRTH_DATE         NaN           NaN   3675.0\n",
      "BRAND         226472.0           NaN      NaN\n",
      "CATEGORY_1       111.0           NaN      NaN\n",
      "CATEGORY_2      1424.0           NaN      NaN\n",
      "CATEGORY_3     60566.0           NaN      NaN\n",
      "CATEGORY_4    778093.0           NaN      NaN\n",
      "GENDER             NaN           NaN   5892.0\n",
      "LANGUAGE           NaN           NaN  30508.0\n",
      "MANUFACTURER  226474.0           NaN      NaN\n",
      "STATE              NaN           NaN   4812.0\n"
     ]
    }
   ],
   "source": [
    "# Analyze missing data\n",
    "missing_data = pd.DataFrame({\n",
    "    'Products': products_df.isnull().sum(),\n",
    "    'Transactions': transactions_df.isnull().sum(),\n",
    "    'Users': users_df.isnull().sum()\n",
    "})\n",
    "missing_data = missing_data[missing_data.sum(axis=1) > 0]\n",
    "print(\"\\nMissing Data Summary:\\n\", missing_data)"
   ]
  },
  {
   "cell_type": "code",
   "execution_count": 7,
   "id": "3e8838dc-9d8b-44f4-aeff-29c545121b36",
   "metadata": {},
   "outputs": [
    {
     "name": "stdout",
     "output_type": "stream",
     "text": [
      "Index(['RECEIPT_ID', 'PURCHASE_DATE', 'SCAN_DATE', 'STORE_NAME', 'USER_ID',\n",
      "       'BARCODE', 'FINAL_QUANTITY', 'FINAL_SALE'],\n",
      "      dtype='object')\n"
     ]
    }
   ],
   "source": [
    "print(transactions_df.columns)"
   ]
  },
  {
   "cell_type": "code",
   "execution_count": 8,
   "id": "f9e82a6a-e8ec-4938-9fcc-686d4d805b85",
   "metadata": {},
   "outputs": [
    {
     "name": "stdout",
     "output_type": "stream",
     "text": [
      "\n",
      "State Value Counts:\n",
      " STATE\n",
      "TX    9028\n",
      "FL    8921\n",
      "CA    8589\n",
      "NY    5703\n",
      "IL    3794\n",
      "GA    3718\n",
      "PA    3644\n",
      "OH    3519\n",
      "NC    3399\n",
      "NJ    2899\n",
      "MI    2582\n",
      "VA    2400\n",
      "IN    2213\n",
      "TN    2165\n",
      "AL    1792\n",
      "SC    1773\n",
      "KY    1731\n",
      "AZ    1728\n",
      "MO    1652\n",
      "MD    1636\n",
      "MA    1523\n",
      "WI    1389\n",
      "PR    1361\n",
      "LA    1290\n",
      "WA    1234\n",
      "CO    1139\n",
      "MN    1125\n",
      "CT    1110\n",
      "OK    1100\n",
      "AR    1011\n",
      "MS     960\n",
      "IA     933\n",
      "NV     837\n",
      "KS     835\n",
      "OR     700\n",
      "WV     674\n",
      "UT     593\n",
      "DE     492\n",
      "NE     487\n",
      "NM     452\n",
      "ME     368\n",
      "NH     359\n",
      "HI     350\n",
      "ID     350\n",
      "AK     297\n",
      "RI     284\n",
      "DC     241\n",
      "SD     205\n",
      "ND     185\n",
      "MT     169\n",
      "WY     138\n",
      "VT     111\n",
      "Name: count, dtype: int64\n",
      "\n",
      "Potentially Unclear Fields:\n",
      "1. 'barcode' in Products & Transactions: Does it match uniquely?\n",
      "2. 'scan_date' vs 'purchase_date' in Transactions: Any discrepancies?\n",
      "3. 'category_1' to 'category_4': How do they map to a hierarchy?\n"
     ]
    }
   ],
   "source": [
    "# Check for inconsistencies in state names (abbreviations vs full names)\n",
    "print(\"\\nState Value Counts:\\n\", users_df['STATE'].value_counts())\n",
    "\n",
    "# Identify challenging fields\n",
    "print(\"\\nPotentially Unclear Fields:\")\n",
    "print(\"1. 'barcode' in Products & Transactions: Does it match uniquely?\")\n",
    "print(\"2. 'scan_date' vs 'purchase_date' in Transactions: Any discrepancies?\")\n",
    "print(\"3. 'category_1' to 'category_4': How do they map to a hierarchy?\")\n",
    "\n",
    "#DO I NEED THIS???\n"
   ]
  },
  {
   "cell_type": "code",
   "execution_count": 9,
   "id": "99b4ec63-0976-4886-83b7-5daaf68d6e6f",
   "metadata": {},
   "outputs": [
    {
     "name": "stdout",
     "output_type": "stream",
     "text": [
      "count    37500.000000\n",
      "mean         4.576384\n",
      "std          6.625663\n",
      "min          0.000000\n",
      "25%          1.790000\n",
      "50%          3.000000\n",
      "75%          5.190000\n",
      "max        462.820000\n",
      "Name: FINAL_SALE, dtype: float64\n"
     ]
    },
    {
     "data": {
      "image/png": "[encoded data removed]",
      "text/plain": [
       "<Figure size 800x500 with 1 Axes>"
      ]
     },
     "metadata": {},
     "output_type": "display_data"
    },
    {
     "data": {
      "image/png": "[encoded data removed]",
      "text/plain": [
       "<Figure size 800x500 with 1 Axes>"
      ]
     },
     "metadata": {},
     "output_type": "display_data"
    }
   ],
   "source": [
    "# Ensure FINAL_SALE is numeric\n",
    "transactions_df['FINAL_SALE'] = pd.to_numeric(transactions_df['FINAL_SALE'], errors='coerce')\n",
    "\n",
    "# Check summary statistics\n",
    "print(transactions_df['FINAL_SALE'].describe())\n",
    "\n",
    "# Remove extreme outliers (keeping values below the 99th percentile)\n",
    "filtered_df = transactions_df[transactions_df['FINAL_SALE'] < transactions_df['FINAL_SALE'].quantile(0.99)]\n",
    "\n",
    "# Plot histogram with KDE\n",
    "plt.figure(figsize=(8,5))\n",
    "sns.histplot(filtered_df['FINAL_SALE'], bins=50, kde=True)\n",
    "plt.title(\"Sales Distribution (Filtered)\")\n",
    "plt.xlabel(\"Final Sale Value\")\n",
    "plt.ylabel(\"Count\")\n",
    "plt.show()\n",
    "\n",
    "# Alternative: Log scale for better visibility\n",
    "plt.figure(figsize=(8,5))\n",
    "sns.histplot(transactions_df['FINAL_SALE'], bins=50, kde=True)\n",
    "plt.yscale('log')  # Apply log scale for skewed distributions\n",
    "plt.title(\"Sales Distribution (Log Scale)\")\n",
    "plt.xlabel(\"Final Sale Value\")\n",
    "plt.ylabel(\"Count\")\n",
    "plt.show()"
   ]
  },
  {
   "cell_type": "markdown",
   "id": "421b5461-1cac-4029-9e4a-14f4e4087e91",
   "metadata": {},
   "source": [
    "# Data Quality Review Summary\r\n",
    "\r\n",
    "## 1. Are there any data quality issues present?  \r\n",
    "Yes, several data quality issues were identified across the datasets:  \r\n",
    "\r\n",
    "- **Missing Values**:  \r\n",
    "  - The `Products` dataset contains missing values in fields like `CATEGORY_3`, `CATEGORY_4`, `MANUFACTURER`, and `BRAND`.  \r\n",
    "  - The `Transactions` dataset may require further checks to confirm completeness.  \r\n",
    "\r\n",
    "- **Duplicate Records**:  \r\n",
    "  - The `Products` dataset has **215 duplicate rows**, which need to be removed or reviewed for inconsistencies.  \r\n",
    "\r\n",
    "- **Data Type Mismatches**:  \r\n",
    "  - Some columns in the `Transactions` dataset require validation to ensure numerical and categorical values are correctly formatted.  \r\n",
    "\r\n",
    "---\r\n",
    "\r\n",
    "## 2. Are there any fields that are challenging to understand?  \r\n",
    "Yes, some fields require further clarification to ensure accurate analysis:  \r\n",
    "\r\n",
    "- **`BARCODE` (Products Dataset)**: Unclear if it is a unique identifier or if multiple products share the same barcode.  \r\n",
    "- **`FINAL_SALE` (Transactions Dataset)**: Ambiguous definition—does it represent revenue, profit, or another financial metric?  \r\n",
    "- **`CATEGORY_1, CATEGORY_2, CATEGORY_3, CATEGORY_4` (Products Dataset)**: The hierarchical structure and meaning of these fields need clarification.  \r\n",
    "- **`USER_ID` (Transactions & Users Dataset)**: Requires verification to confirm the relationship between transactions and user records.  \r\n",
    "\r\n",
    "### **Next Steps:**  \r\n",
    "- Consult data documentation or stakeholders to clarify ambiguous fields.  \r\n",
    "- Address missing values through imputation, removal, or default values.  \r\n",
    "- Remove duplicate records to ensure data integrity.  \r\n",
    "- Validate data types and relationships across datasets for consistency.  \r\n"
   ]
  },
  {
   "cell_type": "markdown",
   "id": "740f71e8-a3d1-4606-a49c-cb7dec08a9fd",
   "metadata": {},
   "source": [
    "# Second: provide SQL queries"
   ]
  },
  {
   "cell_type": "markdown",
   "id": "6138185d-fb46-400d-95a0-3224d4faa936",
   "metadata": {},
   "source": [
    "## Closed-ended Questions\n",
    "* What are the top 5 brands by receipts scanned among users 21 and over?\n",
    "* What are the top 5 brands by sales among users that have had their account for at least six months?\n",
    "* What is the percentage of sales in the Health & Wellness category by generation?\n"
   ]
  },
  {
   "cell_type": "code",
   "execution_count": 10,
   "id": "24e6e4b3-bf8a-4014-9f71-5f33113e07d8",
   "metadata": {},
   "outputs": [
    {
     "data": {
      "text/plain": [
       "845552"
      ]
     },
     "execution_count": 10,
     "metadata": {},
     "output_type": "execute_result"
    }
   ],
   "source": [
    "import sqlite3\n",
    "# Create a SQLite in-memory database\n",
    "conn = sqlite3.connect(\":memory:\")\n",
    "\n",
    "# Load CSV data into Pandas DataFrames\n",
    "users_df.to_sql(\"users\", conn, index=False, if_exists=\"replace\")\n",
    "transactions_df.to_sql(\"transactions\", conn, index=False, if_exists=\"replace\")\n",
    "products_df.to_sql(\"products\", conn, index=False, if_exists=\"replace\")"
   ]
  },
  {
   "cell_type": "code",
   "execution_count": 11,
   "id": "06740175-30be-48cd-8e6c-815cdb3e3cab",
   "metadata": {},
   "outputs": [
    {
     "name": "stdout",
     "output_type": "stream",
     "text": [
      "         BRAND  total_receipts\n",
      "0  NERDS CANDY               6\n",
      "1         DOVE               6\n",
      "2      TRIDENT               4\n",
      "3  GREAT VALUE               4\n",
      "4     CHEX MIX               4\n"
     ]
    }
   ],
   "source": [
    "#1. Top 5 brands by receipts scanned among users 21 and over\n",
    "\n",
    "query_0 = \"\"\"\n",
    "SELECT p.brand, COUNT(t.receipt_id) AS total_receipts\n",
    "FROM transactions t\n",
    "JOIN users u ON t.user_id = u.id\n",
    "JOIN products p ON t.barcode = p.barcode\n",
    "WHERE (strftime('%Y', 'now') - strftime('%Y', u.birth_date)) >= 21\n",
    "GROUP BY p.brand\n",
    "ORDER BY total_receipts DESC\n",
    "LIMIT 5;\n",
    "\"\"\"\n",
    "\n",
    "# Execute the query \n",
    "top_brands_21plus = pd.read_sql_query(query_0, conn)\n",
    "\n",
    "# Display results\n",
    "print(top_brands_21plus)\n"
   ]
  },
  {
   "cell_type": "code",
   "execution_count": 12,
   "id": "03d22859-06f2-48f0-92d7-9f55d13382fe",
   "metadata": {},
   "outputs": [
    {
     "name": "stdout",
     "output_type": "stream",
     "text": [
      "         BRAND  total_sales\n",
      "0          CVS        72.00\n",
      "1      TRIDENT        46.72\n",
      "2         DOVE        42.88\n",
      "3  COORS LIGHT        34.96\n",
      "4       QUAKER        16.60\n"
     ]
    }
   ],
   "source": [
    "#2. Top 5 brands by sales among users that have had their account for at least six months\n",
    "\n",
    "query_1 = \"\"\"\n",
    "SELECT p.brand, SUM(t.FINAL_SALE) AS total_sales\n",
    "FROM transactions t\n",
    "JOIN users u ON t.USER_ID = u.id\n",
    "JOIN products p ON t.BARCODE = p.BARCODE\n",
    "WHERE u.created_date <= DATE('now', '-6 months')\n",
    "GROUP BY p.brand\n",
    "ORDER BY total_sales DESC\n",
    "LIMIT 5;\n",
    "\"\"\"\n",
    "top_brands = pd.read_sql_query(query_1, conn)\n",
    "print(top_brands)"
   ]
  },
  {
   "cell_type": "code",
   "execution_count": 13,
   "id": "c3ac16c6-5b06-44c1-a1a9-3f443c6b3fb4",
   "metadata": {},
   "outputs": [
    {
     "name": "stdout",
     "output_type": "stream",
     "text": [
      "    generation  health_wellness_percentage\n",
      "0   Millennial                   42.892644\n",
      "1  Baby Boomer                   41.782987\n",
      "2        Gen X                   31.598756\n",
      "3      Unknown                    0.000000\n",
      "4        Gen Z                    0.000000\n"
     ]
    }
   ],
   "source": [
    "#3. Percentage of sales in the Health & Wellness category by generation\n",
    "\n",
    "query_2 = \"\"\"\n",
    "SELECT \n",
    "    CASE \n",
    "        WHEN strftime('%Y', u.BIRTH_DATE) BETWEEN '1946' AND '1964' THEN 'Baby Boomer'\n",
    "        WHEN strftime('%Y', u.BIRTH_DATE) BETWEEN '1965' AND '1980' THEN 'Gen X'\n",
    "        WHEN strftime('%Y', u.BIRTH_DATE) BETWEEN '1981' AND '1996' THEN 'Millennial'\n",
    "        WHEN strftime('%Y', u.BIRTH_DATE) BETWEEN '1997' AND '2012' THEN 'Gen Z'\n",
    "        ELSE 'Unknown'\n",
    "    END AS generation,\n",
    "    SUM(CASE \n",
    "            WHEN p.CATEGORY_1 = 'Health & Wellness' \n",
    "            THEN t.FINAL_SALE \n",
    "            ELSE 0 \n",
    "            END) * 100.0 \n",
    "        / SUM(t.FINAL_SALE) AS health_wellness_percentage\n",
    "FROM transactions t\n",
    "JOIN users u ON t.USER_ID = u.ID\n",
    "JOIN products p ON t.BARCODE = p.BARCODE\n",
    "GROUP BY generation\n",
    "ORDER BY health_wellness_percentage DESC;\n",
    "\n",
    "\"\"\"\n",
    "sales_by_gen = pd.read_sql_query(query_2, conn)\n",
    "print(sales_by_gen)"
   ]
  },
  {
   "cell_type": "markdown",
   "id": "0a93833c-b34c-4a58-8ec1-0e56dfa44d0e",
   "metadata": {},
   "source": [
    "## Open-ended Questions\n",
    "* Who are Fetch's power users?\n",
    "* Which is the leading brand in the Dips & Salsa category?\n",
    "* At what percent has Fetch grown year over year?"
   ]
  },
  {
   "cell_type": "markdown",
   "id": "11bd5bbf-cf53-426d-952b-208702aa3b93",
   "metadata": {},
   "source": [
    "### Who are Fetch’s power users?\n",
    "\n",
    "**Assumption of Possible Definition of Power Users:**\n",
    "- **High-frequency shoppers:** Users who scan receipts often (greater or equal to 5 times in total)\n",
    "- **High-value spenders:** Users whose purchases contribute the most to overall transaction value"
   ]
  },
  {
   "cell_type": "code",
   "execution_count": 14,
   "id": "d0330ee5-4faf-423b-ac98-e4519247c517",
   "metadata": {},
   "outputs": [
    {
     "name": "stdout",
     "output_type": "stream",
     "text": [
      "                    USER_ID  total_receipts  total_spent\n",
      "0  60a5363facc00d347abadc8e               5       101.97\n",
      "1  65845b6bc9e6fe40ea67e108               5       101.43\n",
      "2  61545c3b504f3536dc3423b6               5        81.73\n",
      "3  607068e86393686b73dbef4a               5        67.29\n",
      "4  5d77d06b0d1bff4316a3ef47               6        60.73\n",
      "5  64e62de5ca929250373e6cf5              10        57.65\n",
      "6  653ec447a225ea102b7f0846               5        57.36\n",
      "7  6240f64ee073a81bcca57670               6        57.33\n",
      "8  61e3a441d88a8533ec0deae2               5        56.79\n",
      "9  605a982894a5c74ba439e5ab               6        56.52\n"
     ]
    }
   ],
   "source": [
    "query_3 = \"\"\"\n",
    "SELECT t.user_id, COUNT(DISTINCT t.receipt_id) AS total_receipts, SUM(t.final_sale) AS total_spent\n",
    "FROM transactions t\n",
    "GROUP BY t.user_id\n",
    "HAVING COUNT(DISTINCT t.receipt_id) >= 5  \n",
    "ORDER BY total_spent DESC\n",
    "LIMIT 10;\n",
    "\"\"\"\n",
    "df_top_users = pd.read_sql_query(query_3, conn)\n",
    "print(df_top_users)\n",
    "\n"
   ]
  },
  {
   "cell_type": "markdown",
   "id": "658838d6-71d1-4f89-b7d4-80816c0fe83f",
   "metadata": {},
   "source": [
    "\n",
    "- Top 10 Power Users (Ranked by Spending)\n",
    "\n",
    "| Rank | User ID | Total Receipts | Total Spent ($) |\n",
    "|------|----------------------------------|----------------|---------------|\n",
    "| 1    | 60a5363facc00d347abadc8e        | 5              | 101.97        |\n",
    "| 2    | 65845b6bc96efe40ea67e108        | 5              | 101.43        |\n",
    "| 3    | 61545c3b5043f353dc3423b6        | 5              | 81.73         |\n",
    "| 4    | 60768e8639368b73dbef4a          | 5              | 67.29         |\n",
    "| 5    | 5d77d06bdb1bff4316a3ef47        | 5              | 60.73         |\n",
    "| 6    | 64e62de5ca929250373e6cf5        | 10             | 57.65         |\n",
    "| 7    | 53ec447a225ea102b7f0846         | 5              | 57.36         |\n",
    "| 8    | 7264c0ee073a81bcca57670         | 5              | 57.33         |\n",
    "| 9    | 61e3a441d88a8533ec0deae2        | 5              | 56.79         |\n",
    "\n",
    "\n",
    "\n",
    "- Fetch's top power users are those who have made at least **5 purchases** and are ranked by total spending.\n",
    "- There may be a need to adjust the threshold to better capture **truly high-frequency users**, as most users in this dataset have only **5 receipts**.\n",
    "- Further analysis could involve evaluating **average spending per transaction** or **loyalty trends** over time.\n"
   ]
  },
  {
   "cell_type": "markdown",
   "id": "32f94697-bfcf-41aa-bd99-7bd8cd757f48",
   "metadata": {},
   "source": [
    "## 2. Which is the leading brand in the Dips & Salsa category?\n",
    "\n",
    "**Assumption:** Leading brand refers to the one with the highest revenue.\n",
    "\n",
    "**Possible Metrics for Determination:**\n",
    "- Total revenue: The brand that appears generate the greatest revenue.\n",
    "\n",
    "**Approach to Answer:**\n",
    "- Query Fetch's data on the Dips & Salsa category, aggregating sales by brand."
   ]
  },
  {
   "cell_type": "code",
   "execution_count": 18,
   "id": "7c3800c9-7ca4-4e50-86c1-186aeb1a9b0a",
   "metadata": {},
   "outputs": [
    {
     "name": "stdout",
     "output_type": "stream",
     "text": [
      "      BRAND  purchase_count  total_revenue\n",
      "0  TOSTITOS              66         239.54\n"
     ]
    }
   ],
   "source": [
    "query_4 = \"\"\"\n",
    "SELECT p.BRAND, \n",
    "       COUNT(t.BARCODE) AS purchase_count, \n",
    "       SUM(t.FINAL_SALE) AS total_revenue\n",
    "FROM transactions t\n",
    "JOIN products p ON t.BARCODE = p.BARCODE\n",
    "WHERE p.CATEGORY_2 = 'Dips & Salsa'\n",
    "GROUP BY p.BRAND\n",
    "ORDER BY total_revenue DESC\n",
    "LIMIT 1;\n",
    "\"\"\"\n",
    "\n",
    "# Run the query and display results\n",
    "df_leading_brand = pd.read_sql_query(query_4, conn)\n",
    "print(df_leading_brand)"
   ]
  },
  {
   "cell_type": "markdown",
   "id": "c54095f4-75e7-42d4-9408-4ea9bc2e5f8e",
   "metadata": {},
   "source": [
    "Tostitos is the leading brand in the Dips & Salsa category with:\n",
    "\n",
    "66 purchases\n",
    "$239.54 in total revenue"
   ]
  },
  {
   "cell_type": "markdown",
   "id": "35aabbdf-56b5-40e8-8e35-9b64f3ead7c6",
   "metadata": {},
   "source": [
    "3. At what percent has Fetch grown year over year?\n",
    "- Since my transactions table only contains PURCHASE_DATE data for 2024, I can't directly calculate year-over-year (YoY) growth using past transactions.\n",
    "- I will estimate it in alternative ways:\n",
    "   \n",
    "Assumption: I will assume we are looking at active users for growth.\n",
    "\n",
    "Formula for Year-over-Year (YoY) Growth:\n",
    "\n",
    "YoY Growth =\n",
    "(\n",
    "Current Year Metric\n",
    "−\n",
    "Previous Year Metric\n",
    "Previous Year Metric\n",
    ")\n",
    "×\n",
    "100\n",
    "YoY Growth=( \n",
    "Previous Year Metric\n",
    "Current Year Metric−Previous Year Metric\n",
    "​\n",
    " )×100\n",
    "Approach:\n",
    "\n",
    "Define the metric (e.g., active users, revenue).\n",
    "Retrieve data for the current and previous year.\n",
    "Apply the formula to calculate growth."
   ]
  },
  {
   "cell_type": "code",
   "execution_count": 16,
   "id": "ae7b744c-916d-4366-b1fe-58b28fc5a5b8",
   "metadata": {},
   "outputs": [
    {
     "name": "stdout",
     "output_type": "stream",
     "text": [
      "   yoy_growth_percentage\n",
      "0                    0.0\n"
     ]
    }
   ],
   "source": [
    "query_yoy_growth = \"\"\"\n",
    "SELECT \n",
    "    (SUM(CASE WHEN strftime('%Y', t.PURCHASE_DATE) = '2024' THEN t.FINAL_SALE ELSE 0 END) - \n",
    "     SUM(CASE WHEN strftime('%Y', t.PURCHASE_DATE) = '2023' THEN t.FINAL_SALE ELSE 0 END)) * 100.0 /\n",
    "     SUM(CASE WHEN strftime('%Y', t.PURCHASE_DATE) = '2023' THEN t.FINAL_SALE ELSE 1 END) AS yoy_growth_percentage\n",
    "FROM transactions t;\n",
    "\"\"\"\n",
    "\n",
    "# Run the query and display results\n",
    "df_yoy_growth = pd.read_sql_query(query_yoy_growth, conn)\n",
    "print(df_yoy_growth)\n"
   ]
  },
  {
   "cell_type": "code",
   "execution_count": 17,
   "id": "cf4c5472-6844-4335-a99a-eee86913ea09",
   "metadata": {},
   "outputs": [
    {
     "name": "stdout",
     "output_type": "stream",
     "text": [
      "    year  new_users  new_users_last_year  YoY_Growth (%)\n",
      "0   2024      11631              15464.0      -24.786601\n",
      "1   2023      15464              26807.0      -42.313575\n",
      "2   2022      26807              19159.0       39.918576\n",
      "3   2021      19159              16883.0       13.481016\n",
      "4   2020      16883               7093.0      138.023403\n",
      "5   2019       7093               2168.0      227.167897\n",
      "6   2018       2168                644.0      236.645963\n",
      "7   2017        644                 70.0      820.000000\n",
      "8   2016         70                 51.0       37.254902\n",
      "9   2015         51                 30.0       70.000000\n",
      "10  2014         30                  NaN             NaN\n"
     ]
    }
   ],
   "source": [
    "# SQL Query to count new users by year\n",
    "query = \"\"\"\n",
    "    SELECT \n",
    "        strftime('%Y', CREATED_DATE) AS year,\n",
    "        COUNT(ID) AS new_users\n",
    "    FROM users\n",
    "    WHERE CREATED_DATE IS NOT NULL\n",
    "    GROUP BY year\n",
    "    ORDER BY year DESC;\n",
    "\"\"\"\n",
    "\n",
    "# Run the query\n",
    "df_users_by_year = pd.read_sql(query, conn)\n",
    "\n",
    "# Calculate Year-over-Year Growth\n",
    "df_users_by_year[\"new_users_last_year\"] = df_users_by_year[\"new_users\"].shift(-1)\n",
    "df_users_by_year[\"YoY_Growth (%)\"] = ((df_users_by_year[\"new_users\"] - df_users_by_year[\"new_users_last_year\"]) /\n",
    "                                      df_users_by_year[\"new_users_last_year\"]) * 100\n",
    "\n",
    "\n",
    "# Display results\n",
    "print(df_users_by_year)"
   ]
  },
  {
   "cell_type": "code",
   "execution_count": 20,
   "id": "5f86904b-df3a-4bf5-9755-48387f78f758",
   "metadata": {},
   "outputs": [
    {
     "name": "stdout",
     "output_type": "stream",
     "text": [
      "    year  new_users  new_users_last_year  YoY_Growth (%)\n",
      "0   2024      11631              15464.0      -24.786601\n",
      "1   2023      15464              26807.0      -42.313575\n",
      "2   2022      26807              19159.0       39.918576\n",
      "3   2021      19159              16883.0       13.481016\n",
      "4   2020      16883               7093.0      138.023403\n",
      "5   2019       7093               2168.0      227.167897\n",
      "6   2018       2168                644.0      236.645963\n",
      "7   2017        644                 70.0      820.000000\n",
      "8   2016         70                 51.0       37.254902\n",
      "9   2015         51                 30.0       70.000000\n",
      "10  2014         30                  NaN             NaN\n"
     ]
    }
   ],
   "source": [
    "# SQL Query to calculate YoY growth with new users\n",
    "query_yoy_growth = \"\"\"\n",
    "SELECT \n",
    "    year,\n",
    "    new_users,\n",
    "    LAG(new_users) OVER (ORDER BY year) AS new_users_last_year,\n",
    "    CASE \n",
    "        WHEN LAG(new_users) OVER (ORDER BY year) IS NOT NULL AND LAG(new_users) OVER (ORDER BY year) != 0\n",
    "        THEN ((new_users - LAG(new_users) OVER (ORDER BY year)) * 100.0 / LAG(new_users) OVER (ORDER BY year))\n",
    "        ELSE NULL\n",
    "    END AS \"YoY_Growth (%)\"\n",
    "FROM (\n",
    "    SELECT \n",
    "        strftime('%Y', CREATED_DATE) AS year,\n",
    "        COUNT(ID) AS new_users\n",
    "    FROM users\n",
    "    WHERE CREATED_DATE IS NOT NULL\n",
    "    GROUP BY year\n",
    ") AS yearly_users\n",
    "ORDER BY year DESC;\n",
    "\"\"\"\n",
    "\n",
    "# Run the query\n",
    "df_yoy_growth = pd.read_sql_query(query_yoy_growth, conn)\n",
    "\n",
    "# Display results\n",
    "print(df_yoy_growth)"
   ]
  },
  {
   "cell_type": "markdown",
   "id": "12da552b-f486-4f60-862b-649ba89f17ce",
   "metadata": {},
   "source": [
    "## Summary of Year-over-Year (YoY) Growth for New Users\n",
    "\n",
    "- **Recent Decline (2023-2024) **  \n",
    "  - 2024: 11,631 new users (-24.79% YoY)  \n",
    "  - 2023: 15,464 new users (-42.31% YoY)  \n",
    "  - Significant drop in new users over the past two years.  \n",
    "\n",
    "- **Strong Growth Period (2019-2022) **  \n",
    "  - 2022: 26,837 new users (+39.92% YoY)  \n",
    "  - 2021: 19,159 new users (+13.48% YoY)  \n",
    "  - 2020: 16,883 new users (+138.02% YoY)  \n",
    "  - 2019: 7,093 new users (+227.17% YoY)  \n",
    "  - Rapid expansion, peaking in 2019.  \n",
    "\n",
    "- **Early-Stage Rapid Growth (2014-2018) **  \n",
    "  - 2018: 644 new users (+236.65% YoY)  \n",
    "  - 2017: 191 new users (+820% YoY)  \n",
    "  - 2016: 21 new users (+37.25% YoY)  \n",
    "  - 2015: 51 new users (+70% YoY)  \n",
    "  - High growth rates from a small base.  \n",
    "\n",
    "### 📉 Key Takeaways  \n",
    "✅ **2015-2020:** Explosive early-stage growth.  \n",
    "✅ **2020-2022:** Sustained expansion.  \n",
    "⚠️ **2023-2024:** Decline, possibly due to market saturation or competition.  \n"
   ]
  },
  {
   "cell_type": "markdown",
   "id": "7dd58b8d-6814-406c-b1c8-8db8c7322706",
   "metadata": {},
   "source": []
  },
  {
   "cell_type": "markdown",
   "id": "fffa8911-e8ce-4bd2-8ff3-a468c629320a",
   "metadata": {},
   "source": [
    "**Subject:** Key Findings & Data Quality Concerns – User Growth Trends  \n",
    "\n",
    "Hi [Product/Business Leader's Name],  \n",
    "\n",
    "I analyzed our user growth trends and identified a few key insights and data concerns that need further clarification:  \n",
    "\n",
    "### 🔍 Data Quality Issues & Outstanding Questions  \n",
    "- **Missing historical data**: Some earlier years have very low user counts, suggesting either incomplete records or a small initial user base. Can we confirm if we have all historical data available?  \n",
    "- **Possible duplicate or misclassified entries**: The sharp drop in new users from 2022 to 2024 (-24.8% and -42.3% YoY) raises concerns—are we tracking new users consistently, or have there been changes in how we define/record them?  \n",
    "\n",
    "### 📊 Key Trend: Sharp Decline in User Growth  \n",
    "- After years of strong expansion (2015-2022), new user acquisition has significantly slowed, with a **66% drop since 2022**.  \n",
    "- This shift could indicate **market saturation, increased competition, or changes in acquisition strategy**.  \n",
    "\n",
    "### 🚀 Next Steps & Support Needed  \n",
    "1. **Data validation:** Can we confirm whether the drop is real or due to data inconsistencies?  \n",
    "2. **Acquisition strategy insights:** Any recent shifts in marketing, pricing, or user onboarding that could explain the decline?  \n",
    "3. **Further segmentation:** A deeper dive into retention metrics and user cohorts could clarify if existing users are still engaging while acquisition slows.  \n",
    "\n",
    "Let’s connect on this to ensure we have a complete and accurate view. Let me know your availability or any additional context you can provide.  \n",
    "\n",
    "Thanks,  \n",
    "[Your Name]\n"
   ]
  },
  {
   "cell_type": "code",
   "execution_count": null,
   "id": "12c362e4-a5f4-4b10-8c5f-0efcf1864770",
   "metadata": {},
   "outputs": [],
   "source": []
  }
 ],
 "metadata": {
  "kernelspec": {
   "display_name": "Python 3 (ipykernel)",
   "language": "python",
   "name": "python3"
  },
  "language_info": {
   "codemirror_mode": {
    "name": "ipython",
    "version": 3
   },
   "file_extension": ".py",
   "mimetype": "text/x-python",
   "name": "python",
   "nbconvert_exporter": "python",
   "pygments_lexer": "ipython3",
   "version": "3.12.4"
  }
 },
 "nbformat": 4,
 "nbformat_minor": 5
}
